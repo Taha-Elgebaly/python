{
 "cells": [
  {
   "cell_type": "markdown",
   "metadata": {
    "id": "5tiqkSxGtqRH"
   },
   "source": [
    "# Task_1"
   ]
  },
  {
   "cell_type": "markdown",
   "metadata": {
    "id": "YWgp6TQynE42"
   },
   "source": [
    "# <font color='red'> 1) Mark down all the Valid boolean expression in python: </font> \n",
    "\n",
    "#### A) n > 100 and < 500\n",
    "#### B) n > 100 and n < 500\n",
    "#### C) 100 < n < 500\n"
   ]
  },
  {
   "cell_type": "code",
   "execution_count": null,
   "metadata": {
    "id": "3xBB-JLJuJ-8"
   },
   "outputs": [],
   "source": [
    "B   C"
   ]
  },
  {
   "cell_type": "code",
   "execution_count": 7,
   "metadata": {
    "id": "WaBM7Ua0l96Z"
   },
   "outputs": [],
   "source": [
    "A = False #@param {type:\"boolean\"} \n",
    "B = False #@param {type:\"boolean\"} \n",
    "C = False #@param {type:\"boolean\"} \n"
   ]
  },
  {
   "cell_type": "markdown",
   "metadata": {
    "id": "rzaw1bLYjps-"
   },
   "source": [
    "\n",
    "# <font color='red'> 2) Fill the gaps to get the ouput as in the example below:\n",
    "##### (For any string greater than 3 characters)\n",
    "#### **Input**: \"globalization\" \n",
    "#### **Output**: g11n\n",
    "#### **\n",
    "#### **Input**: \"subjective\" \n",
    "#### **Output**: s8e\n",
    "#### **\n",
    "\n",
    "### YOUR CODE: \n",
    "<font color='brown'> **s = input()** \n",
    "<br> **print(... + ... + ...)**\n"
   ]
  },
  {
   "cell_type": "code",
   "execution_count": 3,
   "metadata": {},
   "outputs": [
    {
     "name": "stdout",
     "output_type": "stream",
     "text": [
      "Taha\n",
      "T2a\n"
     ]
    }
   ],
   "source": [
    "s = input()\n",
    "print(s[0] + str(len(s) - 2) + s[-1])\n"
   ]
  },
  {
   "cell_type": "markdown",
   "metadata": {
    "id": "S-tbOKj-lkek"
   },
   "source": [
    "# <font color='red'> 3) Create a tuple of 10 elements and then multiply each element of the tuple by 2 & save the results in a list"
   ]
  },
  {
   "cell_type": "code",
   "execution_count": 4,
   "metadata": {
    "id": "B49aQLyil_gC"
   },
   "outputs": [
    {
     "name": "stdout",
     "output_type": "stream",
     "text": [
      "[2, 4, 6, 8, 10, 12, 14, 16, 18, 20]\n"
     ]
    }
   ],
   "source": [
    "my_tuple = (1, 2, 3, 4, 5, 6, 7, 8, 9, 10)\n",
    "\n",
    "result_list = [elem * 2 for elem in my_tuple]\n",
    "\n",
    "\n",
    "print(result_list)\n"
   ]
  },
  {
   "cell_type": "markdown",
   "metadata": {
    "id": "LCdj2MzVp_7v"
   },
   "source": [
    "# <font color='red'> 4) Reverse the string 'Mansoura' using slicing"
   ]
  },
  {
   "cell_type": "code",
   "execution_count": 5,
   "metadata": {
    "id": "SubUk05Cs_k6"
   },
   "outputs": [
    {
     "name": "stdout",
     "output_type": "stream",
     "text": [
      "aruosnaM\n"
     ]
    }
   ],
   "source": [
    "name = 'Mansoura'\n",
    "\n",
    "Reverse_name = name[::-1]\n",
    "\n",
    "print(Reverse_name)"
   ]
  },
  {
   "cell_type": "markdown",
   "metadata": {
    "id": "XF8kQVzzsD6t"
   },
   "source": [
    "# <font color='red'> 5) Use List Comprehension to create a list of the first letters of ever-y word in the string below:\n",
    "\n",
    "* st = 'Friendship is the tree of its seeds tender'"
   ]
  },
  {
   "cell_type": "code",
   "execution_count": 6,
   "metadata": {
    "id": "4BaX05QQtA7f"
   },
   "outputs": [
    {
     "name": "stdout",
     "output_type": "stream",
     "text": [
      "['F', 'i', 't', 't', 'o', 'i', 's', 't']\n"
     ]
    }
   ],
   "source": [
    "st = 'Friendship is the tree of its seeds tender'\n",
    "first_letters = [word[0] for word in st.split()]\n",
    "print(first_letters)\n"
   ]
  },
  {
   "cell_type": "markdown",
   "metadata": {
    "id": "GQo7e9YPmlQ0"
   },
   "source": [
    "# <font color='cyan'> BONUS <font color='red'> 6) Create a class called car that include some valriables like : \n",
    "* name\n",
    "* color\n",
    "* age"
   ]
  },
  {
   "cell_type": "code",
   "execution_count": 12,
   "metadata": {
    "id": "PG15Tr-8tfni"
   },
   "outputs": [
    {
     "name": "stdout",
     "output_type": "stream",
     "text": [
      "Name: BMW\n",
      "Color: Black\n",
      "Age: 3\n"
     ]
    }
   ],
   "source": [
    "class car:\n",
    "    def __init__(self, name, color, age):\n",
    "        self.name =name\n",
    "        self.color = color\n",
    "        self.age =age\n",
    "        \n",
    "    def display_info(self):\n",
    "        print(f\"Name: {self.name}\")\n",
    "        print(f\"Color: {self.color}\")\n",
    "        print(f\"Age: {self.age}\")\n",
    "        \n",
    "my_car = car(\"BMW\", \"Black\", 3)\n",
    "\n",
    "my_car.display_info()"
   ]
  },
  {
   "cell_type": "markdown",
   "metadata": {
    "id": "T4VSxkHzuaDa"
   },
   "source": [
    "# <font color='red'> **Solve these problems with python**:<br>\n",
    "<a href='https://www.hackerrank.com/challenges/python-string-split-and-join/problem'> **problem 1**\n",
    "    <br>\n",
    "    <br>\n",
    "<a href='https://www.hackerrank.com/challenges/py-if-else/problem'> **problem 2**\n",
    "<br>\n",
    "<br>\n",
    "<a href='https://codeforces.com/group/MWSDmqGsZm/contest/219158/problem/Y'> **problem 3**\n",
    "    <br>\n",
    "    <br>\n",
    "<a href='https://www.hackerrank.com/challenges/list-comprehensions/problem'> **problem 4** <font color='cyan'> BONUS\n",
    "    <br>\n",
    "    <br>\n",
    "<a href='https://www.hackerrank.com/challenges/swap-case/problem'> **problem 5** <font color='cyan'> BONUS\n",
    "    <br>\n",
    "    <br>\n",
    "<a href='https://codeforces.com/group/MWSDmqGsZm/contest/219158/problem/X'> **problem 6** <font color='cyan'> BONUS\n",
    "    <br>\n"
   ]
  },
  {
   "cell_type": "code",
   "execution_count": 8,
   "metadata": {
    "id": "WfsduVL1vqsP"
   },
   "outputs": [
    {
     "name": "stdout",
     "output_type": "stream",
     "text": [
      "Taha Ramadan Elgebaly\n",
      "Taha-Ramadan-Elgebaly\n"
     ]
    }
   ],
   "source": [
    "#problem 1 \n",
    "\n",
    "a = input()\n",
    "a = a.split(\" \") \n",
    "a = \"-\".join(a)\n",
    "print (a)\n"
   ]
  },
  {
   "cell_type": "code",
   "execution_count": 9,
   "metadata": {
    "id": "tV6DFexRvq5-"
   },
   "outputs": [
    {
     "name": "stdout",
     "output_type": "stream",
     "text": [
      "45\n",
      "Weird\n"
     ]
    }
   ],
   "source": [
    "#problem 2\n",
    "\n",
    "n = int(input())\n",
    "\n",
    "if n % 2 != 0:\n",
    "    print(\"Weird\")\n",
    "elif n % 2 == 0 and n in range(2, 6):\n",
    "    print(\"Not Weird\")\n",
    "elif n % 2 == 0 and n in range(6, 21):\n",
    "    print(\"Weird\")\n",
    "elif n % 2 == 0 and n > 20:\n",
    "    print(\"Not Weird\")\n"
   ]
  },
  {
   "cell_type": "code",
   "execution_count": null,
   "metadata": {
    "id": "8L9HjXVIvrB-"
   },
   "outputs": [],
   "source": [
    "#problem 3\n",
    "\n",
    "#https://codeforces.com/group/MWSDmqGsZm/contest/219158/submission/178250568\n",
    "\n",
    "A,B,C,D = map(int, input().split())\n",
    " \n",
    "multi = A*B*C*D\n",
    " \n",
    "multi_string = str(multi)\n",
    " \n",
    " \n",
    "c = multi_string[-2:]\n",
    " \n",
    "print(c)\n",
    " "
   ]
  },
  {
   "cell_type": "code",
   "execution_count": null,
   "metadata": {
    "id": "3f6ciBn7vrOL"
   },
   "outputs": [],
   "source": [
    "#problem 4\n",
    "\n",
    "\n",
    "\n"
   ]
  },
  {
   "cell_type": "code",
   "execution_count": null,
   "metadata": {
    "id": "VfYvejyOvrem"
   },
   "outputs": [],
   "source": [
    "#problem 5 \n",
    "\n",
    "\n",
    "\n"
   ]
  },
  {
   "cell_type": "code",
   "execution_count": null,
   "metadata": {
    "id": "QgXXw8otvr8D"
   },
   "outputs": [],
   "source": [
    "#problem 6\n",
    "\n",
    "\n",
    "\n"
   ]
  }
 ],
 "metadata": {
  "colab": {
   "provenance": []
  },
  "kernelspec": {
   "display_name": "Python 3 (ipykernel)",
   "language": "python",
   "name": "python3"
  },
  "language_info": {
   "codemirror_mode": {
    "name": "ipython",
    "version": 3
   },
   "file_extension": ".py",
   "mimetype": "text/x-python",
   "name": "python",
   "nbconvert_exporter": "python",
   "pygments_lexer": "ipython3",
   "version": "3.9.16"
  }
 },
 "nbformat": 4,
 "nbformat_minor": 1
}
